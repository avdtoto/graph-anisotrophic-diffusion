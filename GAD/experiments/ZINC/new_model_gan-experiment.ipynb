{
  "cells": [
    {
      "cell_type": "code",
      "execution_count": null,
      "metadata": {
        "colab": {
          "base_uri": "https://localhost:8080/"
        },
        "id": "tD3VqEtuqdZx",
        "outputId": "70422d50-365e-49b3-95e3-23c3bb22818d"
      },
      "outputs": [
        {
          "name": "stdout",
          "output_type": "stream",
          "text": [
            "\u001b[33mWARNING: No matching packages\u001b[0m\u001b[33m\n",
            "\u001b[0mFiles removed: 0\n"
          ]
        }
      ],
      "source": [
        "!pip cache purge"
      ]
    },
    {
      "cell_type": "code",
      "execution_count": null,
      "metadata": {
        "colab": {
          "base_uri": "https://localhost:8080/"
        },
        "id": "YsgC8TmlqdVo",
        "outputId": "9e09ef5c-cfb3-4a2f-aaf4-a0151bbd8f51"
      },
      "outputs": [
        {
          "name": "stdout",
          "output_type": "stream",
          "text": [
            "--2024-03-27 12:29:56--  https://github.com/avdtoto/graph-anisotrophic-diffusion/archive/refs/heads/main.zip\n",
            "Resolving github.com (github.com)... 20.205.243.166\n",
            "Connecting to github.com (github.com)|20.205.243.166|:443... connected.\n",
            "HTTP request sent, awaiting response... 302 Found\n",
            "Location: https://codeload.github.com/avdtoto/graph-anisotrophic-diffusion/zip/refs/heads/main [following]\n",
            "--2024-03-27 12:29:56--  https://codeload.github.com/avdtoto/graph-anisotrophic-diffusion/zip/refs/heads/main\n",
            "Resolving codeload.github.com (codeload.github.com)... 20.205.243.165\n",
            "Connecting to codeload.github.com (codeload.github.com)|20.205.243.165|:443... connected.\n",
            "HTTP request sent, awaiting response... 200 OK\n",
            "Length: unspecified [application/zip]\n",
            "Saving to: ‘main.zip’\n",
            "\n",
            "main.zip                [ <=>                ] 150.62K  --.-KB/s    in 0.02s   \n",
            "\n",
            "2024-03-27 12:29:57 (9.05 MB/s) - ‘main.zip’ saved [154240]\n",
            "\n"
          ]
        }
      ],
      "source": [
        "!wget https://github.com/avdtoto/graph-anisotrophic-diffusion/archive/refs/heads/main.zip"
      ]
    },
    {
      "cell_type": "code",
      "execution_count": null,
      "metadata": {
        "colab": {
          "base_uri": "https://localhost:8080/"
        },
        "id": "bFI86zuRqdI8",
        "outputId": "0d0e1b0f-67ae-4faa-ca90-1f728dd0499d"
      },
      "outputs": [
        {
          "name": "stdout",
          "output_type": "stream",
          "text": [
            "Archive:  main.zip\n",
            "2b5e8dc08a4b011bcb9e2dc89faccdca185a0cf0\n",
            "   creating: graph-anisotrophic-diffusion-main/\n",
            "   creating: graph-anisotrophic-diffusion-main/GAD/\n",
            "  inflating: graph-anisotrophic-diffusion-main/GAD/README.md  \n",
            "   creating: graph-anisotrophic-diffusion-main/GAD/experiments/\n",
            "   creating: graph-anisotrophic-diffusion-main/GAD/experiments/QM9/\n",
            "  inflating: graph-anisotrophic-diffusion-main/GAD/experiments/QM9/README.md  \n",
            "  inflating: graph-anisotrophic-diffusion-main/GAD/experiments/QM9/main_QM9.py  \n",
            "  inflating: graph-anisotrophic-diffusion-main/GAD/experiments/QM9/train_eval_QM9.py  \n",
            "   creating: graph-anisotrophic-diffusion-main/GAD/experiments/ZINC/\n",
            "  inflating: graph-anisotrophic-diffusion-main/GAD/experiments/ZINC/README.md  \n",
            "  inflating: graph-anisotrophic-diffusion-main/GAD/experiments/ZINC/main_ZINC.py  \n",
            "  inflating: graph-anisotrophic-diffusion-main/GAD/experiments/ZINC/preprocessing.py  \n",
            "  inflating: graph-anisotrophic-diffusion-main/GAD/experiments/ZINC/train_eval_ZINC.py  \n",
            "   creating: graph-anisotrophic-diffusion-main/GAD/images/\n",
            "  inflating: graph-anisotrophic-diffusion-main/GAD/images/GAD.png  \n",
            "  inflating: graph-anisotrophic-diffusion-main/GAD/requirements.txt  \n",
            "   creating: graph-anisotrophic-diffusion-main/GAD/src/\n",
            "   creating: graph-anisotrophic-diffusion-main/GAD/src/GAD_QM9/\n",
            "  inflating: graph-anisotrophic-diffusion-main/GAD/src/GAD_QM9/gad.py  \n",
            "   creating: graph-anisotrophic-diffusion-main/GAD/src/GAD_ZINC/\n",
            "  inflating: graph-anisotrophic-diffusion-main/GAD/src/GAD_ZINC/gad.py  \n",
            "  inflating: graph-anisotrophic-diffusion-main/GAD/src/aggregators.py  \n",
            "  inflating: graph-anisotrophic-diffusion-main/GAD/src/dgn_layer.py  \n",
            "  inflating: graph-anisotrophic-diffusion-main/GAD/src/diffusion_layer.py  \n",
            "  inflating: graph-anisotrophic-diffusion-main/GAD/src/gad_layer.py  \n",
            "  inflating: graph-anisotrophic-diffusion-main/GAD/src/mlp.py  \n",
            "  inflating: graph-anisotrophic-diffusion-main/GAD/src/scalers.py  \n"
          ]
        }
      ],
      "source": [
        "!unzip main.zip"
      ]
    },
    {
      "cell_type": "code",
      "execution_count": null,
      "metadata": {
        "colab": {
          "base_uri": "https://localhost:8080/"
        },
        "id": "U1hKe8LtqUIh",
        "outputId": "02f0661b-d4ee-48ca-a0ee-a0a675ab4761"
      },
      "outputs": [
        {
          "name": "stdout",
          "output_type": "stream",
          "text": [
            "Looking in links: https://download.pytorch.org/whl/torch_stable.html\n",
            "Collecting torch==1.11.0+cu113\n",
            "  Downloading https://download.pytorch.org/whl/cu113/torch-1.11.0%2Bcu113-cp310-cp310-linux_x86_64.whl (1637.0 MB)\n",
            "\u001b[2K     \u001b[90m━━━━━━━━━━━━━━━━━━━━━━━━━━━━━━━━━━━━━━━━\u001b[0m \u001b[32m1.6/1.6 GB\u001b[0m \u001b[31m981.6 kB/s\u001b[0m eta \u001b[36m0:00:00\u001b[0m\n",
            "\u001b[?25hCollecting torchvision==0.12.0+cu113\n",
            "  Downloading https://download.pytorch.org/whl/cu113/torchvision-0.12.0%2Bcu113-cp310-cp310-linux_x86_64.whl (22.3 MB)\n",
            "\u001b[2K     \u001b[90m━━━━━━━━━━━━━━━━━━━━━━━━━━━━━━━━━━━━━━━━\u001b[0m \u001b[32m22.3/22.3 MB\u001b[0m \u001b[31m48.7 MB/s\u001b[0m eta \u001b[36m0:00:00\u001b[0m\n",
            "\u001b[?25hCollecting torchaudio==0.11.0+cu113\n",
            "  Downloading https://download.pytorch.org/whl/cu113/torchaudio-0.11.0%2Bcu113-cp310-cp310-linux_x86_64.whl (2.9 MB)\n",
            "\u001b[2K     \u001b[90m━━━━━━━━━━━━━━━━━━━━━━━━━━━━━━━━━━━━━━━━\u001b[0m \u001b[32m2.9/2.9 MB\u001b[0m \u001b[31m54.5 MB/s\u001b[0m eta \u001b[36m0:00:00\u001b[0m\n",
            "\u001b[?25hRequirement already satisfied: typing-extensions in /usr/local/lib/python3.10/dist-packages (from torch==1.11.0+cu113) (4.10.0)\n",
            "Requirement already satisfied: numpy in /usr/local/lib/python3.10/dist-packages (from torchvision==0.12.0+cu113) (1.25.2)\n",
            "Requirement already satisfied: requests in /usr/local/lib/python3.10/dist-packages (from torchvision==0.12.0+cu113) (2.31.0)\n",
            "Requirement already satisfied: pillow!=8.3.*,>=5.3.0 in /usr/local/lib/python3.10/dist-packages (from torchvision==0.12.0+cu113) (9.4.0)\n",
            "Requirement already satisfied: charset-normalizer<4,>=2 in /usr/local/lib/python3.10/dist-packages (from requests->torchvision==0.12.0+cu113) (3.3.2)\n",
            "Requirement already satisfied: idna<4,>=2.5 in /usr/local/lib/python3.10/dist-packages (from requests->torchvision==0.12.0+cu113) (3.6)\n",
            "Requirement already satisfied: urllib3<3,>=1.21.1 in /usr/local/lib/python3.10/dist-packages (from requests->torchvision==0.12.0+cu113) (2.0.7)\n",
            "Requirement already satisfied: certifi>=2017.4.17 in /usr/local/lib/python3.10/dist-packages (from requests->torchvision==0.12.0+cu113) (2024.2.2)\n",
            "Installing collected packages: torch, torchvision, torchaudio\n",
            "  Attempting uninstall: torch\n",
            "    Found existing installation: torch 2.2.1+cu121\n",
            "    Uninstalling torch-2.2.1+cu121:\n",
            "      Successfully uninstalled torch-2.2.1+cu121\n",
            "  Attempting uninstall: torchvision\n",
            "    Found existing installation: torchvision 0.17.1+cu121\n",
            "    Uninstalling torchvision-0.17.1+cu121:\n",
            "      Successfully uninstalled torchvision-0.17.1+cu121\n",
            "  Attempting uninstall: torchaudio\n",
            "    Found existing installation: torchaudio 2.2.1+cu121\n",
            "    Uninstalling torchaudio-2.2.1+cu121:\n",
            "      Successfully uninstalled torchaudio-2.2.1+cu121\n",
            "\u001b[31mERROR: pip's dependency resolver does not currently take into account all the packages that are installed. This behaviour is the source of the following dependency conflicts.\n",
            "torchdata 0.7.1 requires torch>=2, but you have torch 1.11.0+cu113 which is incompatible.\n",
            "torchtext 0.17.1 requires torch==2.2.1, but you have torch 1.11.0+cu113 which is incompatible.\u001b[0m\u001b[31m\n",
            "\u001b[0mSuccessfully installed torch-1.11.0+cu113 torchaudio-0.11.0+cu113 torchvision-0.12.0+cu113\n"
          ]
        }
      ],
      "source": [
        "!pip install torch==1.11.0+cu113 torchvision==0.12.0+cu113 torchaudio==0.11.0+cu113 -f https://download.pytorch.org/whl/torch_stable.html"
      ]
    },
    {
      "cell_type": "code",
      "execution_count": null,
      "metadata": {
        "colab": {
          "base_uri": "https://localhost:8080/"
        },
        "id": "FUNLK-Fcqp4t",
        "outputId": "64c1c8ee-04c8-4a44-cc75-df2b1b445ba4"
      },
      "outputs": [
        {
          "name": "stdout",
          "output_type": "stream",
          "text": [
            "1.11.0+cu113\n"
          ]
        }
      ],
      "source": [
        "import torch\n",
        "print(torch.__version__)"
      ]
    },
    {
      "cell_type": "code",
      "execution_count": null,
      "metadata": {
        "colab": {
          "base_uri": "https://localhost:8080/"
        },
        "id": "071oJkBXqp0B",
        "outputId": "e9150480-8b85-45fc-eb44-35694c8403df"
      },
      "outputs": [
        {
          "name": "stdout",
          "output_type": "stream",
          "text": [
            "Looking in links: https://data.pyg.org/whl/torch-1.11.0+cu113.html\n",
            "Collecting torch-scatter==2.0.9\n",
            "  Downloading https://data.pyg.org/whl/torch-1.11.0%2Bcu113/torch_scatter-2.0.9-cp310-cp310-linux_x86_64.whl (7.9 MB)\n",
            "\u001b[2K     \u001b[90m━━━━━━━━━━━━━━━━━━━━━━━━━━━━━━━━━━━━━━━━\u001b[0m \u001b[32m7.9/7.9 MB\u001b[0m \u001b[31m94.9 MB/s\u001b[0m eta \u001b[36m0:00:00\u001b[0m\n",
            "\u001b[?25hInstalling collected packages: torch-scatter\n",
            "Successfully installed torch-scatter-2.0.9\n"
          ]
        }
      ],
      "source": [
        "!pip install torch-scatter==2.0.9 -f https://data.pyg.org/whl/torch-1.11.0+cu113.html"
      ]
    },
    {
      "cell_type": "code",
      "execution_count": null,
      "metadata": {
        "colab": {
          "base_uri": "https://localhost:8080/"
        },
        "id": "SjzXFxtYrN4J",
        "outputId": "52ae1116-76a1-48a8-ed7d-3ca28a84335d"
      },
      "outputs": [
        {
          "name": "stdout",
          "output_type": "stream",
          "text": [
            "Looking in links: https://data.pyg.org/whl/torch-1.11.0+cu113.html\n",
            "Collecting torch-sparse==0.6.13\n",
            "  Downloading https://data.pyg.org/whl/torch-1.11.0%2Bcu113/torch_sparse-0.6.13-cp310-cp310-linux_x86_64.whl (3.5 MB)\n",
            "\u001b[2K     \u001b[90m━━━━━━━━━━━━━━━━━━━━━━━━━━━━━━━━━━━━━━━━\u001b[0m \u001b[32m3.5/3.5 MB\u001b[0m \u001b[31m2.9 MB/s\u001b[0m eta \u001b[36m0:00:00\u001b[0m\n",
            "\u001b[?25hRequirement already satisfied: scipy in /usr/local/lib/python3.10/dist-packages (from torch-sparse==0.6.13) (1.11.4)\n",
            "Requirement already satisfied: numpy<1.28.0,>=1.21.6 in /usr/local/lib/python3.10/dist-packages (from scipy->torch-sparse==0.6.13) (1.25.2)\n",
            "Installing collected packages: torch-sparse\n",
            "Successfully installed torch-sparse-0.6.13\n"
          ]
        }
      ],
      "source": [
        "!pip install torch-sparse==0.6.13 -f https://data.pyg.org/whl/torch-1.11.0+cu113.html"
      ]
    },
    {
      "cell_type": "code",
      "execution_count": null,
      "metadata": {
        "colab": {
          "base_uri": "https://localhost:8080/"
        },
        "id": "ATDceBD8rNvR",
        "outputId": "46e17e75-9fb1-4a81-83b0-852ee2230122"
      },
      "outputs": [
        {
          "name": "stdout",
          "output_type": "stream",
          "text": [
            "Collecting torch-geometric\n",
            "  Downloading torch_geometric-2.5.2-py3-none-any.whl (1.1 MB)\n",
            "\u001b[?25l     \u001b[90m━━━━━━━━━━━━━━━━━━━━━━━━━━━━━━━━━━━━━━━━\u001b[0m \u001b[32m0.0/1.1 MB\u001b[0m \u001b[31m?\u001b[0m eta \u001b[36m-:--:--\u001b[0m\r\u001b[2K     \u001b[91m━━━━━━━━━━━━━\u001b[0m\u001b[90m╺\u001b[0m\u001b[90m━━━━━━━━━━━━━━━━━━━━━━━━━━\u001b[0m \u001b[32m0.4/1.1 MB\u001b[0m \u001b[31m11.0 MB/s\u001b[0m eta \u001b[36m0:00:01\u001b[0m\r\u001b[2K     \u001b[90m━━━━━━━━━━━━━━━━━━━━━━━━━━━━━━━━━━━━━━━━\u001b[0m \u001b[32m1.1/1.1 MB\u001b[0m \u001b[31m22.2 MB/s\u001b[0m eta \u001b[36m0:00:00\u001b[0m\n",
            "\u001b[?25hRequirement already satisfied: tqdm in /usr/local/lib/python3.10/dist-packages (from torch-geometric) (4.66.2)\n",
            "Requirement already satisfied: numpy in /usr/local/lib/python3.10/dist-packages (from torch-geometric) (1.25.2)\n",
            "Requirement already satisfied: scipy in /usr/local/lib/python3.10/dist-packages (from torch-geometric) (1.11.4)\n",
            "Requirement already satisfied: fsspec in /usr/local/lib/python3.10/dist-packages (from torch-geometric) (2023.6.0)\n",
            "Requirement already satisfied: jinja2 in /usr/local/lib/python3.10/dist-packages (from torch-geometric) (3.1.3)\n",
            "Requirement already satisfied: aiohttp in /usr/local/lib/python3.10/dist-packages (from torch-geometric) (3.9.3)\n",
            "Requirement already satisfied: requests in /usr/local/lib/python3.10/dist-packages (from torch-geometric) (2.31.0)\n",
            "Requirement already satisfied: pyparsing in /usr/local/lib/python3.10/dist-packages (from torch-geometric) (3.1.2)\n",
            "Requirement already satisfied: scikit-learn in /usr/local/lib/python3.10/dist-packages (from torch-geometric) (1.2.2)\n",
            "Requirement already satisfied: psutil>=5.8.0 in /usr/local/lib/python3.10/dist-packages (from torch-geometric) (5.9.5)\n",
            "Requirement already satisfied: aiosignal>=1.1.2 in /usr/local/lib/python3.10/dist-packages (from aiohttp->torch-geometric) (1.3.1)\n",
            "Requirement already satisfied: attrs>=17.3.0 in /usr/local/lib/python3.10/dist-packages (from aiohttp->torch-geometric) (23.2.0)\n",
            "Requirement already satisfied: frozenlist>=1.1.1 in /usr/local/lib/python3.10/dist-packages (from aiohttp->torch-geometric) (1.4.1)\n",
            "Requirement already satisfied: multidict<7.0,>=4.5 in /usr/local/lib/python3.10/dist-packages (from aiohttp->torch-geometric) (6.0.5)\n",
            "Requirement already satisfied: yarl<2.0,>=1.0 in /usr/local/lib/python3.10/dist-packages (from aiohttp->torch-geometric) (1.9.4)\n",
            "Requirement already satisfied: async-timeout<5.0,>=4.0 in /usr/local/lib/python3.10/dist-packages (from aiohttp->torch-geometric) (4.0.3)\n",
            "Requirement already satisfied: MarkupSafe>=2.0 in /usr/local/lib/python3.10/dist-packages (from jinja2->torch-geometric) (2.1.5)\n",
            "Requirement already satisfied: charset-normalizer<4,>=2 in /usr/local/lib/python3.10/dist-packages (from requests->torch-geometric) (3.3.2)\n",
            "Requirement already satisfied: idna<4,>=2.5 in /usr/local/lib/python3.10/dist-packages (from requests->torch-geometric) (3.6)\n",
            "Requirement already satisfied: urllib3<3,>=1.21.1 in /usr/local/lib/python3.10/dist-packages (from requests->torch-geometric) (2.0.7)\n",
            "Requirement already satisfied: certifi>=2017.4.17 in /usr/local/lib/python3.10/dist-packages (from requests->torch-geometric) (2024.2.2)\n",
            "Requirement already satisfied: joblib>=1.1.1 in /usr/local/lib/python3.10/dist-packages (from scikit-learn->torch-geometric) (1.3.2)\n",
            "Requirement already satisfied: threadpoolctl>=2.0.0 in /usr/local/lib/python3.10/dist-packages (from scikit-learn->torch-geometric) (3.3.0)\n",
            "Installing collected packages: torch-geometric\n",
            "Successfully installed torch-geometric-2.5.2\n"
          ]
        }
      ],
      "source": [
        "!pip install torch-geometric"
      ]
    },
    {
      "cell_type": "code",
      "execution_count": null,
      "metadata": {
        "colab": {
          "base_uri": "https://localhost:8080/"
        },
        "id": "TfE0CG3XrNjG",
        "outputId": "325dc152-ae16-4271-b55d-94480b01e323"
      },
      "outputs": [
        {
          "name": "stdout",
          "output_type": "stream",
          "text": [
            "Collecting rdkit-pypi\n",
            "  Downloading rdkit_pypi-2022.9.5-cp310-cp310-manylinux_2_17_x86_64.manylinux2014_x86_64.whl (29.4 MB)\n",
            "\u001b[2K     \u001b[90m━━━━━━━━━━━━━━━━━━━━━━━━━━━━━━━━━━━━━━━━\u001b[0m \u001b[32m29.4/29.4 MB\u001b[0m \u001b[31m35.7 MB/s\u001b[0m eta \u001b[36m0:00:00\u001b[0m\n",
            "\u001b[?25hRequirement already satisfied: numpy in /usr/local/lib/python3.10/dist-packages (from rdkit-pypi) (1.25.2)\n",
            "Requirement already satisfied: Pillow in /usr/local/lib/python3.10/dist-packages (from rdkit-pypi) (9.4.0)\n",
            "Installing collected packages: rdkit-pypi\n",
            "Successfully installed rdkit-pypi-2022.9.5\n"
          ]
        }
      ],
      "source": [
        "!pip install rdkit-pypi"
      ]
    },
    {
      "cell_type": "code",
      "execution_count": null,
      "metadata": {
        "id": "6LrXKoESrMt7"
      },
      "outputs": [],
      "source": [
        "import sys\n",
        "sys.path.insert(0, \"graph-anisotrophic-diffusion-main/GAD/src\")\n",
        "sys.path.insert(0, \"graph-anisotrophic-diffusion-main/GAD/experiments/ZINC\")"
      ]
    },
    {
      "cell_type": "code",
      "execution_count": null,
      "metadata": {
        "id": "LGeNyxlY7dWE"
      },
      "outputs": [],
      "source": [
        "from GAD_ZINC.gad import GAD"
      ]
    },
    {
      "cell_type": "code",
      "execution_count": null,
      "metadata": {
        "id": "xnpJps_wr5jF"
      },
      "outputs": [],
      "source": [
        "import torch\n",
        "import torch.optim as opt\n",
        "import torch.nn as nn\n",
        "\n",
        "from torch_geometric.datasets import ZINC\n",
        "from torch_geometric.data import DataLoader\n",
        "import os\n",
        "import sys\n",
        "\n",
        "from tqdm import tqdm\n",
        "\n",
        "import argparse\n",
        "import matplotlib.pyplot as plt\n",
        "\n",
        "from preprocessing import preprocessing_dataset, average_node_degree\n",
        "from train_eval_ZINC import train_epoch, evaluate_network\n",
        "from GAD_ZINC.gad import GAD\n",
        "\n",
        "def train_ZINC(model, optimizer, train_loader, val_loader, device, num_epochs, min_lr):\n",
        "\n",
        "    loss_fn = nn.L1Loss()\n",
        "\n",
        "    scheduler = opt.lr_scheduler.ReduceLROnPlateau(optimizer, mode='min',\n",
        "                                                     factor=0.5,\n",
        "                                                     patience=15,\n",
        "                                                   threshold=0.004,\n",
        "                                                   verbose=True)\n",
        "\n",
        "    epoch_train_MAEs, epoch_val_MAEs = [], []\n",
        "\n",
        "    Best_val_mae = 10\n",
        "\n",
        "    print(\"Start training\")\n",
        "\n",
        "    for epoch in range(num_epochs):\n",
        "\n",
        "        if optimizer.param_groups[0]['lr'] < min_lr:\n",
        "            print(\"lr equal to min_lr: exist\")\n",
        "            break\n",
        "\n",
        "        epoch_train_mae, optimizer = train_epoch(model ,train_loader, optimizer, device, loss_fn)\n",
        "        epoch_val_mae = evaluate_network(model,  val_loader, device)\n",
        "\n",
        "        epoch_train_MAEs.append(epoch_train_mae)\n",
        "        epoch_val_MAEs.append(epoch_val_mae)\n",
        "\n",
        "        scheduler.step(epoch_val_mae)\n",
        "        if(epoch_val_mae < Best_val_mae):\n",
        "            Best_val_mae =  epoch_val_mae\n",
        "            torch.save(model, 'model_new.pth')\n",
        "\n",
        "        torch.save(model, 'model_running_new.pth')\n",
        "\n",
        "        print(\"\")\n",
        "        print(\"epoch_idx\", epoch)\n",
        "        print(\"epoch_train_MAE\", epoch_train_mae)\n",
        "        print(\"epoch_val_MAE\", epoch_val_mae)\n",
        "\n",
        "    print(\"Finish training\")\n",
        "\n",
        "    return epoch_train_MAEs, epoch_val_MAEs\n",
        "\n",
        "def main():\n",
        "\n",
        "    batch_size=16\n",
        "    k=30\n",
        "\n",
        "    hid_dim=65\n",
        "    use_graph_norm=True\n",
        "    use_batch_norm=True\n",
        "    dropout=0\n",
        "    readout='mean'\n",
        "    aggregators='mean dir_der max min'\n",
        "    scalers='identity amplification attenuation'\n",
        "    use_edge_fts=True\n",
        "    towers=5\n",
        "    type_net='tower'\n",
        "    use_residual=True\n",
        "    use_diffusion=True\n",
        "    diffusion_method='implicit'\n",
        "    n_layers=4\n",
        "\n",
        "\n",
        "    lr=1e-3\n",
        "    weight_decay=3e-6\n",
        "    num_epochs=300\n",
        "    min_lr=1e-5\n",
        "\n",
        "    print(\"downloading the dataset (ZINC)\")\n",
        "    dataset_train = ZINC(root='/tmp/a', subset=True)\n",
        "    dataset_val = ZINC(root='/tmp/a', subset=True, split='val')\n",
        "    dataset_test = ZINC(root='/tmp/a', subset=True, split='test')\n",
        "\n",
        "    print(\"dataset_train contains \", len(dataset_train), \"samples\")\n",
        "    print(\"dataset_val contains \", len(dataset_val), \"samples\")\n",
        "    print(\"dataset_test contains \", len(dataset_test), \"samples\")\n",
        "\n",
        "    print(\"data preprocessing: calculate and store the vector field F, etc.\")\n",
        "\n",
        "    D, avg_d = average_node_degree(dataset_train)\n",
        "    dataset_train = preprocessing_dataset(dataset_train, k)\n",
        "    dataset_val = preprocessing_dataset(dataset_val, k)\n",
        "    dataset_test = preprocessing_dataset(dataset_test, k)\n",
        "\n",
        "    device = torch.device('cuda' if torch.cuda.is_available() else 'cpu')\n",
        "\n",
        "    train_loader = DataLoader(dataset = dataset_train, batch_size=batch_size, shuffle=True)\n",
        "    val_loader = DataLoader(dataset = dataset_val, batch_size=batch_size, shuffle=False)\n",
        "    test_loader = DataLoader(dataset =  dataset_test, batch_size=batch_size, shuffle=False)\n",
        "\n",
        "    print(\"create GAD model\")\n",
        "\n",
        "    model = GAD(num_atom_type = 28, num_bond_type = 4, hid_dim = hid_dim, graph_norm = use_graph_norm,\n",
        "               batch_norm = use_batch_norm, dropout = dropout, readout = readout, aggregators = aggregators,\n",
        "               scalers = scalers, edge_fts = use_edge_fts, avg_d = avg_d, D = D, device = device, towers= towers,\n",
        "               type_net = type_net, residual = use_residual, use_diffusion = use_diffusion,\n",
        "               diffusion_method = diffusion_method, k = k, n_layers = n_layers)\n",
        "\n",
        "\n",
        "    model = model.to(device)\n",
        "\n",
        "    optimizer = opt.Adam(model.parameters(), lr=lr, weight_decay=weight_decay)\n",
        "\n",
        "    epoch_train_MAEs, epoch_val_MAEs = train_ZINC(model, optimizer, train_loader, val_loader, device, num_epochs = num_epochs, min_lr = min_lr)\n",
        "\n",
        "    print(\"Uploading the best model\")\n",
        "\n",
        "    model = torch.load('/content/model_new.pth')\n",
        "\n",
        "\n",
        "    test_mae = evaluate_network(model, test_loader, device)\n",
        "    val_mae = evaluate_network(model, val_loader, device)\n",
        "    train_mae = evaluate_network(model, train_loader, device)\n",
        "\n",
        "    print(\"\")\n",
        "    print(\"Best Train MAE: {:.4f}\".format(train_mae))\n",
        "    print(\"Best Val MAE: {:.4f}\".format(val_mae))\n",
        "    print(\"Best Test MAE: {:.4f}\".format(test_mae))\n",
        "\n",
        "    return epoch_train_MAEs, epoch_val_MAEs, model\n",
        "\n"
      ]
    },
    {
      "cell_type": "code",
      "execution_count": null,
      "metadata": {
        "colab": {
          "base_uri": "https://localhost:8080/"
        },
        "id": "0C8hqINdtRBg",
        "outputId": "b04296a5-0220-435b-c3c2-901aea8c0035"
      },
      "outputs": [
        {
          "name": "stdout",
          "output_type": "stream",
          "text": [
            "downloading the dataset (ZINC)\n",
            "dataset_train contains  10000 samples\n",
            "dataset_val contains  1000 samples\n",
            "dataset_test contains  1000 samples\n",
            "data preprocessing: calculate and store the vector field F, etc.\n"
          ]
        },
        {
          "name": "stderr",
          "output_type": "stream",
          "text": [
            "/usr/local/lib/python3.10/dist-packages/torch_geometric/deprecation.py:26: UserWarning: 'data.DataLoader' is deprecated, use 'loader.DataLoader' instead\n",
            "  warnings.warn(out)\n"
          ]
        },
        {
          "name": "stdout",
          "output_type": "stream",
          "text": [
            "create GAD model\n",
            "Start training\n"
          ]
        },
        {
          "name": "stderr",
          "output_type": "stream",
          "text": [
            "1it [00:00,  3.00it/s]\n",
            "1it [00:00,  6.59it/s]\n"
          ]
        },
        {
          "name": "stdout",
          "output_type": "stream",
          "text": [
            "\n",
            "epoch_idx 0\n",
            "epoch_train_MAE 1.5170937776565552\n",
            "epoch_val_MAE 1.414663314819336\n"
          ]
        },
        {
          "name": "stderr",
          "output_type": "stream",
          "text": [
            "1it [00:00,  3.70it/s]\n",
            "1it [00:00,  6.73it/s]\n"
          ]
        },
        {
          "name": "stdout",
          "output_type": "stream",
          "text": [
            "\n",
            "epoch_idx 1\n",
            "epoch_train_MAE 1.5001851320266724\n",
            "epoch_val_MAE 1.3797436952590942\n"
          ]
        },
        {
          "name": "stderr",
          "output_type": "stream",
          "text": [
            "1it [00:00,  4.38it/s]\n",
            "1it [00:00,  6.97it/s]\n"
          ]
        },
        {
          "name": "stdout",
          "output_type": "stream",
          "text": [
            "\n",
            "epoch_idx 2\n",
            "epoch_train_MAE 1.4864130020141602\n",
            "epoch_val_MAE 1.3555901050567627\n"
          ]
        },
        {
          "name": "stderr",
          "output_type": "stream",
          "text": [
            "1it [00:00,  4.13it/s]\n",
            "1it [00:00,  6.46it/s]\n"
          ]
        },
        {
          "name": "stdout",
          "output_type": "stream",
          "text": [
            "\n",
            "epoch_idx 3\n",
            "epoch_train_MAE 1.4583920240402222\n",
            "epoch_val_MAE 1.34304940700531\n"
          ]
        },
        {
          "name": "stderr",
          "output_type": "stream",
          "text": [
            "1it [00:00,  4.34it/s]\n",
            "1it [00:00,  6.27it/s]\n"
          ]
        },
        {
          "name": "stdout",
          "output_type": "stream",
          "text": [
            "\n",
            "epoch_idx 4\n",
            "epoch_train_MAE 1.4151643514633179\n",
            "epoch_val_MAE 1.3331925868988037\n"
          ]
        },
        {
          "name": "stderr",
          "output_type": "stream",
          "text": [
            "1it [00:00,  4.03it/s]\n",
            "1it [00:00,  6.71it/s]\n"
          ]
        },
        {
          "name": "stdout",
          "output_type": "stream",
          "text": [
            "\n",
            "epoch_idx 5\n",
            "epoch_train_MAE 1.3560811281204224\n",
            "epoch_val_MAE 1.3194611072540283\n"
          ]
        },
        {
          "name": "stderr",
          "output_type": "stream",
          "text": [
            "1it [00:00,  3.97it/s]\n",
            "1it [00:00,  6.98it/s]\n"
          ]
        },
        {
          "name": "stdout",
          "output_type": "stream",
          "text": [
            "\n",
            "epoch_idx 6\n",
            "epoch_train_MAE 1.270806074142456\n",
            "epoch_val_MAE 1.2831865549087524\n"
          ]
        },
        {
          "name": "stderr",
          "output_type": "stream",
          "text": [
            "1it [00:00,  4.18it/s]\n",
            "1it [00:00,  6.40it/s]\n"
          ]
        },
        {
          "name": "stdout",
          "output_type": "stream",
          "text": [
            "\n",
            "epoch_idx 7\n",
            "epoch_train_MAE 1.1500033140182495\n",
            "epoch_val_MAE 1.2328225374221802\n"
          ]
        },
        {
          "name": "stderr",
          "output_type": "stream",
          "text": [
            "1it [00:00,  4.33it/s]\n",
            "1it [00:00,  6.45it/s]\n"
          ]
        },
        {
          "name": "stdout",
          "output_type": "stream",
          "text": [
            "\n",
            "epoch_idx 8\n",
            "epoch_train_MAE 1.2571126222610474\n",
            "epoch_val_MAE 1.280877709388733\n"
          ]
        },
        {
          "name": "stderr",
          "output_type": "stream",
          "text": [
            "1it [00:00,  3.89it/s]\n",
            "1it [00:00,  6.28it/s]\n"
          ]
        },
        {
          "name": "stdout",
          "output_type": "stream",
          "text": [
            "\n",
            "epoch_idx 9\n",
            "epoch_train_MAE 1.254995346069336\n",
            "epoch_val_MAE 1.3752684593200684\n"
          ]
        },
        {
          "name": "stderr",
          "output_type": "stream",
          "text": [
            "1it [00:00,  2.91it/s]\n",
            "1it [00:00,  4.98it/s]\n"
          ]
        },
        {
          "name": "stdout",
          "output_type": "stream",
          "text": [
            "\n",
            "epoch_idx 10\n",
            "epoch_train_MAE 1.175847053527832\n",
            "epoch_val_MAE 1.4734728336334229\n"
          ]
        },
        {
          "name": "stderr",
          "output_type": "stream",
          "text": [
            "1it [00:00,  1.81it/s]\n",
            "1it [00:00,  4.51it/s]\n"
          ]
        },
        {
          "name": "stdout",
          "output_type": "stream",
          "text": [
            "\n",
            "epoch_idx 11\n",
            "epoch_train_MAE 1.1155626773834229\n",
            "epoch_val_MAE 1.5018105506896973\n"
          ]
        },
        {
          "name": "stderr",
          "output_type": "stream",
          "text": [
            "1it [00:00,  1.73it/s]\n",
            "1it [00:00,  5.19it/s]\n"
          ]
        },
        {
          "name": "stdout",
          "output_type": "stream",
          "text": [
            "\n",
            "epoch_idx 12\n",
            "epoch_train_MAE 1.1251338720321655\n",
            "epoch_val_MAE 1.4990872144699097\n"
          ]
        },
        {
          "name": "stderr",
          "output_type": "stream",
          "text": [
            "1it [00:00,  1.82it/s]\n",
            "1it [00:00,  4.46it/s]\n"
          ]
        },
        {
          "name": "stdout",
          "output_type": "stream",
          "text": [
            "\n",
            "epoch_idx 13\n",
            "epoch_train_MAE 1.0846736431121826\n",
            "epoch_val_MAE 1.4816036224365234\n"
          ]
        },
        {
          "name": "stderr",
          "output_type": "stream",
          "text": [
            "1it [00:00,  4.27it/s]\n",
            "1it [00:00,  6.70it/s]\n"
          ]
        },
        {
          "name": "stdout",
          "output_type": "stream",
          "text": [
            "\n",
            "epoch_idx 14\n",
            "epoch_train_MAE 1.0151556730270386\n",
            "epoch_val_MAE 1.5065290927886963\n"
          ]
        },
        {
          "name": "stderr",
          "output_type": "stream",
          "text": [
            "1it [00:00,  4.21it/s]\n",
            "1it [00:00,  6.66it/s]\n"
          ]
        },
        {
          "name": "stdout",
          "output_type": "stream",
          "text": [
            "\n",
            "epoch_idx 15\n",
            "epoch_train_MAE 0.9752106666564941\n",
            "epoch_val_MAE 1.5764611959457397\n"
          ]
        },
        {
          "name": "stderr",
          "output_type": "stream",
          "text": [
            "1it [00:00,  4.39it/s]\n",
            "1it [00:00,  6.72it/s]\n"
          ]
        },
        {
          "name": "stdout",
          "output_type": "stream",
          "text": [
            "\n",
            "epoch_idx 16\n",
            "epoch_train_MAE 0.9428889751434326\n",
            "epoch_val_MAE 1.6331729888916016\n"
          ]
        },
        {
          "name": "stderr",
          "output_type": "stream",
          "text": [
            "1it [00:00,  4.14it/s]\n",
            "1it [00:00,  6.09it/s]\n"
          ]
        },
        {
          "name": "stdout",
          "output_type": "stream",
          "text": [
            "\n",
            "epoch_idx 17\n",
            "epoch_train_MAE 0.8775356411933899\n",
            "epoch_val_MAE 1.7147676944732666\n"
          ]
        },
        {
          "name": "stderr",
          "output_type": "stream",
          "text": [
            "1it [00:00,  4.31it/s]\n",
            "1it [00:00,  6.53it/s]\n"
          ]
        },
        {
          "name": "stdout",
          "output_type": "stream",
          "text": [
            "\n",
            "epoch_idx 18\n",
            "epoch_train_MAE 0.7772358655929565\n",
            "epoch_val_MAE 1.9091352224349976\n"
          ]
        },
        {
          "name": "stderr",
          "output_type": "stream",
          "text": [
            "1it [00:00,  4.27it/s]\n",
            "1it [00:00,  6.56it/s]\n"
          ]
        },
        {
          "name": "stdout",
          "output_type": "stream",
          "text": [
            "\n",
            "epoch_idx 19\n",
            "epoch_train_MAE 0.6670557856559753\n",
            "epoch_val_MAE 2.245893716812134\n"
          ]
        },
        {
          "name": "stderr",
          "output_type": "stream",
          "text": [
            "1it [00:00,  4.18it/s]\n",
            "1it [00:00,  6.74it/s]\n"
          ]
        },
        {
          "name": "stdout",
          "output_type": "stream",
          "text": [
            "\n",
            "epoch_idx 20\n",
            "epoch_train_MAE 0.5436643362045288\n",
            "epoch_val_MAE 2.781602382659912\n"
          ]
        },
        {
          "name": "stderr",
          "output_type": "stream",
          "text": [
            "1it [00:00,  4.35it/s]\n",
            "1it [00:00,  6.66it/s]\n"
          ]
        },
        {
          "name": "stdout",
          "output_type": "stream",
          "text": [
            "\n",
            "epoch_idx 21\n",
            "epoch_train_MAE 0.36501362919807434\n",
            "epoch_val_MAE 3.661515235900879\n"
          ]
        },
        {
          "name": "stderr",
          "output_type": "stream",
          "text": [
            "1it [00:00,  4.18it/s]\n",
            "1it [00:00,  6.69it/s]\n"
          ]
        },
        {
          "name": "stdout",
          "output_type": "stream",
          "text": [
            "\n",
            "epoch_idx 22\n",
            "epoch_train_MAE 0.11734050512313843\n",
            "epoch_val_MAE 5.150294780731201\n"
          ]
        },
        {
          "name": "stderr",
          "output_type": "stream",
          "text": [
            "1it [00:00,  4.27it/s]\n",
            "1it [00:00,  6.16it/s]\n"
          ]
        },
        {
          "name": "stdout",
          "output_type": "stream",
          "text": [
            "Epoch 00024: reducing learning rate of group 0 to 5.0000e-04.\n",
            "\n",
            "epoch_idx 23\n",
            "epoch_train_MAE 0.18680396676063538\n",
            "epoch_val_MAE 5.592983722686768\n"
          ]
        },
        {
          "name": "stderr",
          "output_type": "stream",
          "text": [
            "1it [00:00,  4.12it/s]\n",
            "1it [00:00,  6.68it/s]\n"
          ]
        },
        {
          "name": "stdout",
          "output_type": "stream",
          "text": [
            "\n",
            "epoch_idx 24\n",
            "epoch_train_MAE 0.351664274930954\n",
            "epoch_val_MAE 5.1186628341674805\n"
          ]
        },
        {
          "name": "stderr",
          "output_type": "stream",
          "text": [
            "1it [00:00,  4.26it/s]\n",
            "1it [00:00,  6.52it/s]\n"
          ]
        },
        {
          "name": "stdout",
          "output_type": "stream",
          "text": [
            "\n",
            "epoch_idx 25\n",
            "epoch_train_MAE 0.34893953800201416\n",
            "epoch_val_MAE 4.745793342590332\n"
          ]
        },
        {
          "name": "stderr",
          "output_type": "stream",
          "text": [
            "1it [00:00,  4.40it/s]\n",
            "1it [00:00,  6.09it/s]\n"
          ]
        },
        {
          "name": "stdout",
          "output_type": "stream",
          "text": [
            "\n",
            "epoch_idx 26\n",
            "epoch_train_MAE 0.2745366096496582\n",
            "epoch_val_MAE 4.455780029296875\n"
          ]
        },
        {
          "name": "stderr",
          "output_type": "stream",
          "text": [
            "1it [00:00,  4.26it/s]\n",
            "1it [00:00,  6.46it/s]\n"
          ]
        },
        {
          "name": "stdout",
          "output_type": "stream",
          "text": [
            "\n",
            "epoch_idx 27\n",
            "epoch_train_MAE 0.2172258496284485\n",
            "epoch_val_MAE 4.140289306640625\n"
          ]
        },
        {
          "name": "stderr",
          "output_type": "stream",
          "text": [
            "1it [00:00,  4.40it/s]\n",
            "1it [00:00,  6.62it/s]\n"
          ]
        },
        {
          "name": "stdout",
          "output_type": "stream",
          "text": [
            "\n",
            "epoch_idx 28\n",
            "epoch_train_MAE 0.12453553080558777\n",
            "epoch_val_MAE 3.776975631713867\n"
          ]
        },
        {
          "name": "stderr",
          "output_type": "stream",
          "text": [
            "1it [00:00,  4.37it/s]\n",
            "1it [00:00,  6.53it/s]\n"
          ]
        },
        {
          "name": "stdout",
          "output_type": "stream",
          "text": [
            "\n",
            "epoch_idx 29\n",
            "epoch_train_MAE 0.14697611331939697\n",
            "epoch_val_MAE 3.282731533050537\n"
          ]
        },
        {
          "name": "stderr",
          "output_type": "stream",
          "text": [
            "1it [00:00,  4.36it/s]\n",
            "1it [00:00,  6.65it/s]\n"
          ]
        },
        {
          "name": "stdout",
          "output_type": "stream",
          "text": [
            "\n",
            "epoch_idx 30\n",
            "epoch_train_MAE 0.18081232905387878\n",
            "epoch_val_MAE 2.8821027278900146\n"
          ]
        },
        {
          "name": "stderr",
          "output_type": "stream",
          "text": [
            "1it [00:00,  4.09it/s]\n",
            "1it [00:00,  6.27it/s]\n"
          ]
        },
        {
          "name": "stdout",
          "output_type": "stream",
          "text": [
            "\n",
            "epoch_idx 31\n",
            "epoch_train_MAE 0.16401982307434082\n",
            "epoch_val_MAE 2.703460454940796\n"
          ]
        },
        {
          "name": "stderr",
          "output_type": "stream",
          "text": [
            "1it [00:00,  4.31it/s]\n",
            "1it [00:00,  6.33it/s]\n"
          ]
        },
        {
          "name": "stdout",
          "output_type": "stream",
          "text": [
            "\n",
            "epoch_idx 32\n",
            "epoch_train_MAE 0.1539691984653473\n",
            "epoch_val_MAE 2.5955467224121094\n"
          ]
        },
        {
          "name": "stderr",
          "output_type": "stream",
          "text": [
            "1it [00:00,  4.13it/s]\n",
            "1it [00:00,  5.91it/s]\n"
          ]
        },
        {
          "name": "stdout",
          "output_type": "stream",
          "text": [
            "\n",
            "epoch_idx 33\n",
            "epoch_train_MAE 0.15060442686080933\n",
            "epoch_val_MAE 2.519469976425171\n"
          ]
        },
        {
          "name": "stderr",
          "output_type": "stream",
          "text": [
            "1it [00:00,  4.20it/s]\n",
            "1it [00:00,  6.59it/s]\n"
          ]
        },
        {
          "name": "stdout",
          "output_type": "stream",
          "text": [
            "\n",
            "epoch_idx 34\n",
            "epoch_train_MAE 0.11631420254707336\n",
            "epoch_val_MAE 2.4632558822631836\n"
          ]
        },
        {
          "name": "stderr",
          "output_type": "stream",
          "text": [
            "1it [00:00,  4.22it/s]\n",
            "1it [00:00,  4.42it/s]\n"
          ]
        },
        {
          "name": "stdout",
          "output_type": "stream",
          "text": [
            "\n",
            "epoch_idx 35\n",
            "epoch_train_MAE 0.05276581645011902\n",
            "epoch_val_MAE 2.409949779510498\n"
          ]
        },
        {
          "name": "stderr",
          "output_type": "stream",
          "text": [
            "1it [00:00,  3.23it/s]\n",
            "1it [00:00,  5.07it/s]\n"
          ]
        },
        {
          "name": "stdout",
          "output_type": "stream",
          "text": [
            "\n",
            "epoch_idx 36\n",
            "epoch_train_MAE 0.08438092470169067\n",
            "epoch_val_MAE 2.38173770904541\n"
          ]
        },
        {
          "name": "stderr",
          "output_type": "stream",
          "text": [
            "1it [00:00,  2.61it/s]\n",
            "1it [00:00,  4.86it/s]\n"
          ]
        },
        {
          "name": "stdout",
          "output_type": "stream",
          "text": [
            "\n",
            "epoch_idx 37\n",
            "epoch_train_MAE 0.10099512338638306\n",
            "epoch_val_MAE 2.209469795227051\n"
          ]
        },
        {
          "name": "stderr",
          "output_type": "stream",
          "text": [
            "1it [00:00,  3.45it/s]\n",
            "1it [00:00,  5.25it/s]\n"
          ]
        },
        {
          "name": "stdout",
          "output_type": "stream",
          "text": [
            "\n",
            "epoch_idx 38\n",
            "epoch_train_MAE 0.12141817808151245\n",
            "epoch_val_MAE 1.947394609451294\n"
          ]
        },
        {
          "name": "stderr",
          "output_type": "stream",
          "text": [
            "1it [00:00,  2.87it/s]\n",
            "1it [00:00,  4.58it/s]\n"
          ]
        },
        {
          "name": "stdout",
          "output_type": "stream",
          "text": [
            "Epoch 00040: reducing learning rate of group 0 to 2.5000e-04.\n",
            "\n",
            "epoch_idx 39\n",
            "epoch_train_MAE 0.10409924387931824\n",
            "epoch_val_MAE 1.6918697357177734\n"
          ]
        },
        {
          "name": "stderr",
          "output_type": "stream",
          "text": [
            "1it [00:00,  3.70it/s]\n",
            "1it [00:00,  6.68it/s]\n"
          ]
        },
        {
          "name": "stdout",
          "output_type": "stream",
          "text": [
            "\n",
            "epoch_idx 40\n",
            "epoch_train_MAE 0.05436044931411743\n",
            "epoch_val_MAE 1.5977952480316162\n"
          ]
        },
        {
          "name": "stderr",
          "output_type": "stream",
          "text": [
            "1it [00:00,  4.26it/s]\n",
            "1it [00:00,  6.66it/s]\n"
          ]
        },
        {
          "name": "stdout",
          "output_type": "stream",
          "text": [
            "\n",
            "epoch_idx 41\n",
            "epoch_train_MAE 0.028917133808135986\n",
            "epoch_val_MAE 1.5698721408843994\n"
          ]
        },
        {
          "name": "stderr",
          "output_type": "stream",
          "text": [
            "1it [00:00,  4.32it/s]\n",
            "1it [00:00,  6.12it/s]\n"
          ]
        },
        {
          "name": "stdout",
          "output_type": "stream",
          "text": [
            "\n",
            "epoch_idx 42\n",
            "epoch_train_MAE 0.03302523493766785\n",
            "epoch_val_MAE 1.5872822999954224\n"
          ]
        },
        {
          "name": "stderr",
          "output_type": "stream",
          "text": [
            "1it [00:00,  4.35it/s]\n",
            "1it [00:00,  6.78it/s]\n"
          ]
        },
        {
          "name": "stdout",
          "output_type": "stream",
          "text": [
            "\n",
            "epoch_idx 43\n",
            "epoch_train_MAE 0.023664414882659912\n",
            "epoch_val_MAE 1.624798059463501\n"
          ]
        },
        {
          "name": "stderr",
          "output_type": "stream",
          "text": [
            "1it [00:00,  4.29it/s]\n",
            "1it [00:00,  6.49it/s]\n"
          ]
        },
        {
          "name": "stdout",
          "output_type": "stream",
          "text": [
            "\n",
            "epoch_idx 44\n",
            "epoch_train_MAE 0.02182069420814514\n",
            "epoch_val_MAE 1.6689560413360596\n"
          ]
        },
        {
          "name": "stderr",
          "output_type": "stream",
          "text": [
            "1it [00:00,  4.24it/s]\n",
            "1it [00:00,  6.24it/s]\n"
          ]
        },
        {
          "name": "stdout",
          "output_type": "stream",
          "text": [
            "\n",
            "epoch_idx 45\n",
            "epoch_train_MAE 0.034491926431655884\n",
            "epoch_val_MAE 1.6607826948165894\n"
          ]
        },
        {
          "name": "stderr",
          "output_type": "stream",
          "text": [
            "1it [00:00,  4.34it/s]\n",
            "1it [00:00,  6.45it/s]\n"
          ]
        },
        {
          "name": "stdout",
          "output_type": "stream",
          "text": [
            "\n",
            "epoch_idx 46\n",
            "epoch_train_MAE 0.03895455598831177\n",
            "epoch_val_MAE 1.6128679513931274\n"
          ]
        },
        {
          "name": "stderr",
          "output_type": "stream",
          "text": [
            "1it [00:00,  3.91it/s]\n",
            "1it [00:00,  6.55it/s]\n"
          ]
        },
        {
          "name": "stdout",
          "output_type": "stream",
          "text": [
            "\n",
            "epoch_idx 47\n",
            "epoch_train_MAE 0.024487972259521484\n",
            "epoch_val_MAE 1.5402696132659912\n"
          ]
        },
        {
          "name": "stderr",
          "output_type": "stream",
          "text": [
            "1it [00:00,  4.31it/s]\n",
            "1it [00:00,  6.60it/s]\n"
          ]
        },
        {
          "name": "stdout",
          "output_type": "stream",
          "text": [
            "\n",
            "epoch_idx 48\n",
            "epoch_train_MAE 0.00635412335395813\n",
            "epoch_val_MAE 1.5178951025009155\n"
          ]
        },
        {
          "name": "stderr",
          "output_type": "stream",
          "text": [
            "1it [00:00,  4.14it/s]\n",
            "1it [00:00,  6.40it/s]\n"
          ]
        },
        {
          "name": "stdout",
          "output_type": "stream",
          "text": [
            "\n",
            "epoch_idx 49\n",
            "epoch_train_MAE 0.015833944082260132\n",
            "epoch_val_MAE 1.5510826110839844\n"
          ]
        },
        {
          "name": "stderr",
          "output_type": "stream",
          "text": [
            "1it [00:00,  4.27it/s]\n",
            "1it [00:00,  6.75it/s]\n"
          ]
        },
        {
          "name": "stdout",
          "output_type": "stream",
          "text": [
            "\n",
            "epoch_idx 50\n",
            "epoch_train_MAE 0.008178293704986572\n",
            "epoch_val_MAE 1.526059627532959\n"
          ]
        },
        {
          "name": "stderr",
          "output_type": "stream",
          "text": [
            "1it [00:00,  4.37it/s]\n",
            "1it [00:00,  6.22it/s]\n"
          ]
        },
        {
          "name": "stdout",
          "output_type": "stream",
          "text": [
            "\n",
            "epoch_idx 51\n",
            "epoch_train_MAE 0.0051319897174835205\n",
            "epoch_val_MAE 1.5531692504882812\n"
          ]
        },
        {
          "name": "stderr",
          "output_type": "stream",
          "text": [
            "1it [00:00,  4.40it/s]\n",
            "1it [00:00,  6.52it/s]\n"
          ]
        },
        {
          "name": "stdout",
          "output_type": "stream",
          "text": [
            "\n",
            "epoch_idx 52\n",
            "epoch_train_MAE 0.013303369283676147\n",
            "epoch_val_MAE 1.5404250621795654\n"
          ]
        },
        {
          "name": "stderr",
          "output_type": "stream",
          "text": [
            "1it [00:00,  4.33it/s]\n",
            "1it [00:00,  6.78it/s]\n"
          ]
        },
        {
          "name": "stdout",
          "output_type": "stream",
          "text": [
            "\n",
            "epoch_idx 53\n",
            "epoch_train_MAE 0.012924343347549438\n",
            "epoch_val_MAE 1.4974853992462158\n"
          ]
        },
        {
          "name": "stderr",
          "output_type": "stream",
          "text": [
            "1it [00:00,  4.35it/s]\n",
            "1it [00:00,  6.87it/s]\n"
          ]
        },
        {
          "name": "stdout",
          "output_type": "stream",
          "text": [
            "\n",
            "epoch_idx 54\n",
            "epoch_train_MAE 0.018885314464569092\n",
            "epoch_val_MAE 1.4801055192947388\n"
          ]
        },
        {
          "name": "stderr",
          "output_type": "stream",
          "text": [
            "1it [00:00,  4.29it/s]\n",
            "1it [00:00,  6.70it/s]\n"
          ]
        },
        {
          "name": "stdout",
          "output_type": "stream",
          "text": [
            "Epoch 00056: reducing learning rate of group 0 to 1.2500e-04.\n",
            "\n",
            "epoch_idx 55\n",
            "epoch_train_MAE 0.015158146619796753\n",
            "epoch_val_MAE 1.5172430276870728\n"
          ]
        },
        {
          "name": "stderr",
          "output_type": "stream",
          "text": [
            "1it [00:00,  3.99it/s]\n",
            "1it [00:00,  6.34it/s]\n"
          ]
        },
        {
          "name": "stdout",
          "output_type": "stream",
          "text": [
            "\n",
            "epoch_idx 56\n",
            "epoch_train_MAE 0.016150444746017456\n",
            "epoch_val_MAE 1.557227373123169\n"
          ]
        },
        {
          "name": "stderr",
          "output_type": "stream",
          "text": [
            "1it [00:00,  4.27it/s]\n",
            "1it [00:00,  6.73it/s]\n"
          ]
        },
        {
          "name": "stdout",
          "output_type": "stream",
          "text": [
            "\n",
            "epoch_idx 57\n",
            "epoch_train_MAE 0.012820035219192505\n",
            "epoch_val_MAE 1.5612815618515015\n"
          ]
        },
        {
          "name": "stderr",
          "output_type": "stream",
          "text": [
            "1it [00:00,  4.00it/s]\n",
            "1it [00:00,  6.39it/s]\n"
          ]
        },
        {
          "name": "stdout",
          "output_type": "stream",
          "text": [
            "\n",
            "epoch_idx 58\n",
            "epoch_train_MAE 0.015408188104629517\n",
            "epoch_val_MAE 1.5385825634002686\n"
          ]
        },
        {
          "name": "stderr",
          "output_type": "stream",
          "text": [
            "1it [00:00,  4.32it/s]\n",
            "1it [00:00,  6.54it/s]\n"
          ]
        },
        {
          "name": "stdout",
          "output_type": "stream",
          "text": [
            "\n",
            "epoch_idx 59\n",
            "epoch_train_MAE 0.010748952627182007\n",
            "epoch_val_MAE 1.4968312978744507\n"
          ]
        },
        {
          "name": "stderr",
          "output_type": "stream",
          "text": [
            "1it [00:00,  4.38it/s]\n",
            "1it [00:00,  5.92it/s]\n"
          ]
        },
        {
          "name": "stdout",
          "output_type": "stream",
          "text": [
            "\n",
            "epoch_idx 60\n",
            "epoch_train_MAE 0.009117335081100464\n",
            "epoch_val_MAE 1.486310601234436\n"
          ]
        },
        {
          "name": "stderr",
          "output_type": "stream",
          "text": [
            "1it [00:00,  3.95it/s]\n",
            "1it [00:00,  6.02it/s]\n"
          ]
        },
        {
          "name": "stdout",
          "output_type": "stream",
          "text": [
            "\n",
            "epoch_idx 61\n",
            "epoch_train_MAE 0.007608979940414429\n",
            "epoch_val_MAE 1.5006613731384277\n"
          ]
        },
        {
          "name": "stderr",
          "output_type": "stream",
          "text": [
            "1it [00:00,  3.07it/s]\n",
            "1it [00:00,  4.74it/s]\n"
          ]
        },
        {
          "name": "stdout",
          "output_type": "stream",
          "text": [
            "\n",
            "epoch_idx 62\n",
            "epoch_train_MAE 0.007219433784484863\n",
            "epoch_val_MAE 1.5372707843780518\n"
          ]
        },
        {
          "name": "stderr",
          "output_type": "stream",
          "text": [
            "1it [00:00,  3.39it/s]\n",
            "1it [00:00,  4.17it/s]\n"
          ]
        },
        {
          "name": "stdout",
          "output_type": "stream",
          "text": [
            "\n",
            "epoch_idx 63\n",
            "epoch_train_MAE 0.01329571008682251\n",
            "epoch_val_MAE 1.5432080030441284\n"
          ]
        },
        {
          "name": "stderr",
          "output_type": "stream",
          "text": [
            "1it [00:00,  3.18it/s]\n",
            "1it [00:00,  5.38it/s]\n"
          ]
        },
        {
          "name": "stdout",
          "output_type": "stream",
          "text": [
            "\n",
            "epoch_idx 64\n",
            "epoch_train_MAE 0.013886243104934692\n",
            "epoch_val_MAE 1.5273786783218384\n"
          ]
        },
        {
          "name": "stderr",
          "output_type": "stream",
          "text": [
            "1it [00:00,  3.37it/s]\n",
            "1it [00:00,  4.48it/s]\n"
          ]
        },
        {
          "name": "stdout",
          "output_type": "stream",
          "text": [
            "\n",
            "epoch_idx 65\n",
            "epoch_train_MAE 0.006558477878570557\n",
            "epoch_val_MAE 1.4976140260696411\n"
          ]
        },
        {
          "name": "stderr",
          "output_type": "stream",
          "text": [
            "1it [00:00,  2.77it/s]\n",
            "1it [00:00,  6.82it/s]\n"
          ]
        },
        {
          "name": "stdout",
          "output_type": "stream",
          "text": [
            "\n",
            "epoch_idx 66\n",
            "epoch_train_MAE 0.007725417613983154\n",
            "epoch_val_MAE 1.4957692623138428\n"
          ]
        },
        {
          "name": "stderr",
          "output_type": "stream",
          "text": [
            "1it [00:00,  4.40it/s]\n",
            "1it [00:00,  6.74it/s]\n"
          ]
        },
        {
          "name": "stdout",
          "output_type": "stream",
          "text": [
            "\n",
            "epoch_idx 67\n",
            "epoch_train_MAE 0.01280626654624939\n",
            "epoch_val_MAE 1.5125610828399658\n"
          ]
        },
        {
          "name": "stderr",
          "output_type": "stream",
          "text": [
            "1it [00:00,  4.17it/s]\n",
            "1it [00:00,  6.47it/s]\n"
          ]
        },
        {
          "name": "stdout",
          "output_type": "stream",
          "text": [
            "\n",
            "epoch_idx 68\n",
            "epoch_train_MAE 0.009743154048919678\n",
            "epoch_val_MAE 1.5435091257095337\n"
          ]
        },
        {
          "name": "stderr",
          "output_type": "stream",
          "text": [
            "1it [00:00,  4.28it/s]\n",
            "1it [00:00,  6.22it/s]\n"
          ]
        },
        {
          "name": "stdout",
          "output_type": "stream",
          "text": [
            "\n",
            "epoch_idx 69\n",
            "epoch_train_MAE 0.01275557279586792\n",
            "epoch_val_MAE 1.5413751602172852\n"
          ]
        },
        {
          "name": "stderr",
          "output_type": "stream",
          "text": [
            "1it [00:00,  4.14it/s]\n",
            "1it [00:00,  6.87it/s]\n"
          ]
        },
        {
          "name": "stdout",
          "output_type": "stream",
          "text": [
            "\n",
            "epoch_idx 70\n",
            "epoch_train_MAE 0.011142939329147339\n",
            "epoch_val_MAE 1.5144338607788086\n"
          ]
        },
        {
          "name": "stderr",
          "output_type": "stream",
          "text": [
            "1it [00:00,  4.41it/s]\n",
            "1it [00:00,  6.70it/s]\n"
          ]
        },
        {
          "name": "stdout",
          "output_type": "stream",
          "text": [
            "Epoch 00072: reducing learning rate of group 0 to 6.2500e-05.\n",
            "\n",
            "epoch_idx 71\n",
            "epoch_train_MAE 0.010455071926116943\n",
            "epoch_val_MAE 1.4828557968139648\n"
          ]
        },
        {
          "name": "stderr",
          "output_type": "stream",
          "text": [
            "1it [00:00,  4.03it/s]\n",
            "1it [00:00,  6.56it/s]\n"
          ]
        },
        {
          "name": "stdout",
          "output_type": "stream",
          "text": [
            "\n",
            "epoch_idx 72\n",
            "epoch_train_MAE 0.007328689098358154\n",
            "epoch_val_MAE 1.4811426401138306\n"
          ]
        },
        {
          "name": "stderr",
          "output_type": "stream",
          "text": [
            "1it [00:00,  4.08it/s]\n",
            "1it [00:00,  6.56it/s]\n"
          ]
        },
        {
          "name": "stdout",
          "output_type": "stream",
          "text": [
            "\n",
            "epoch_idx 73\n",
            "epoch_train_MAE 0.00845298171043396\n",
            "epoch_val_MAE 1.488752841949463\n"
          ]
        },
        {
          "name": "stderr",
          "output_type": "stream",
          "text": [
            "1it [00:00,  4.13it/s]\n",
            "1it [00:00,  6.19it/s]\n"
          ]
        },
        {
          "name": "stdout",
          "output_type": "stream",
          "text": [
            "\n",
            "epoch_idx 74\n",
            "epoch_train_MAE 0.0060579776763916016\n",
            "epoch_val_MAE 1.5099037885665894\n"
          ]
        },
        {
          "name": "stderr",
          "output_type": "stream",
          "text": [
            "1it [00:00,  4.23it/s]\n",
            "1it [00:00,  6.56it/s]\n"
          ]
        },
        {
          "name": "stdout",
          "output_type": "stream",
          "text": [
            "\n",
            "epoch_idx 75\n",
            "epoch_train_MAE 0.007337898015975952\n",
            "epoch_val_MAE 1.5164921283721924\n"
          ]
        },
        {
          "name": "stderr",
          "output_type": "stream",
          "text": [
            "1it [00:00,  4.09it/s]\n",
            "1it [00:00,  6.19it/s]\n"
          ]
        },
        {
          "name": "stdout",
          "output_type": "stream",
          "text": [
            "\n",
            "epoch_idx 76\n",
            "epoch_train_MAE 0.005150794982910156\n",
            "epoch_val_MAE 1.5125914812088013\n"
          ]
        },
        {
          "name": "stderr",
          "output_type": "stream",
          "text": [
            "1it [00:00,  4.32it/s]\n",
            "1it [00:00,  6.34it/s]\n"
          ]
        },
        {
          "name": "stdout",
          "output_type": "stream",
          "text": [
            "\n",
            "epoch_idx 77\n",
            "epoch_train_MAE 0.005232781171798706\n",
            "epoch_val_MAE 1.4986603260040283\n"
          ]
        },
        {
          "name": "stderr",
          "output_type": "stream",
          "text": [
            "1it [00:00,  4.21it/s]\n",
            "1it [00:00,  6.55it/s]\n"
          ]
        },
        {
          "name": "stdout",
          "output_type": "stream",
          "text": [
            "\n",
            "epoch_idx 78\n",
            "epoch_train_MAE 0.006959289312362671\n",
            "epoch_val_MAE 1.4977965354919434\n"
          ]
        },
        {
          "name": "stderr",
          "output_type": "stream",
          "text": [
            "1it [00:00,  4.27it/s]\n",
            "1it [00:00,  6.37it/s]\n"
          ]
        },
        {
          "name": "stdout",
          "output_type": "stream",
          "text": [
            "\n",
            "epoch_idx 79\n",
            "epoch_train_MAE 0.008989006280899048\n",
            "epoch_val_MAE 1.505944013595581\n"
          ]
        },
        {
          "name": "stderr",
          "output_type": "stream",
          "text": [
            "1it [00:00,  4.11it/s]\n",
            "1it [00:00,  6.60it/s]\n"
          ]
        },
        {
          "name": "stdout",
          "output_type": "stream",
          "text": [
            "\n",
            "epoch_idx 80\n",
            "epoch_train_MAE 0.007104814052581787\n",
            "epoch_val_MAE 1.5208969116210938\n"
          ]
        },
        {
          "name": "stderr",
          "output_type": "stream",
          "text": [
            "1it [00:00,  4.28it/s]\n",
            "1it [00:00,  6.77it/s]\n"
          ]
        },
        {
          "name": "stdout",
          "output_type": "stream",
          "text": [
            "\n",
            "epoch_idx 81\n",
            "epoch_train_MAE 0.007160305976867676\n",
            "epoch_val_MAE 1.5196847915649414\n"
          ]
        },
        {
          "name": "stderr",
          "output_type": "stream",
          "text": [
            "1it [00:00,  4.28it/s]\n",
            "1it [00:00,  5.90it/s]\n"
          ]
        },
        {
          "name": "stdout",
          "output_type": "stream",
          "text": [
            "\n",
            "epoch_idx 82\n",
            "epoch_train_MAE 0.005932241678237915\n",
            "epoch_val_MAE 1.506372332572937\n"
          ]
        },
        {
          "name": "stderr",
          "output_type": "stream",
          "text": [
            "1it [00:00,  4.24it/s]\n",
            "1it [00:00,  6.43it/s]\n"
          ]
        },
        {
          "name": "stdout",
          "output_type": "stream",
          "text": [
            "\n",
            "epoch_idx 83\n",
            "epoch_train_MAE 0.0038036704063415527\n",
            "epoch_val_MAE 1.487538456916809\n"
          ]
        },
        {
          "name": "stderr",
          "output_type": "stream",
          "text": [
            "1it [00:00,  4.15it/s]\n",
            "1it [00:00,  6.47it/s]\n"
          ]
        },
        {
          "name": "stdout",
          "output_type": "stream",
          "text": [
            "\n",
            "epoch_idx 84\n",
            "epoch_train_MAE 0.0038268864154815674\n",
            "epoch_val_MAE 1.4854284524917603\n"
          ]
        },
        {
          "name": "stderr",
          "output_type": "stream",
          "text": [
            "1it [00:00,  4.14it/s]\n",
            "1it [00:00,  6.71it/s]\n"
          ]
        },
        {
          "name": "stdout",
          "output_type": "stream",
          "text": [
            "\n",
            "epoch_idx 85\n",
            "epoch_train_MAE 0.005226165056228638\n",
            "epoch_val_MAE 1.4954842329025269\n"
          ]
        },
        {
          "name": "stderr",
          "output_type": "stream",
          "text": [
            "1it [00:00,  4.30it/s]\n",
            "1it [00:00,  6.35it/s]\n"
          ]
        },
        {
          "name": "stdout",
          "output_type": "stream",
          "text": [
            "\n",
            "epoch_idx 86\n",
            "epoch_train_MAE 0.0031419098377227783\n",
            "epoch_val_MAE 1.5149643421173096\n"
          ]
        },
        {
          "name": "stderr",
          "output_type": "stream",
          "text": [
            "1it [00:00,  4.26it/s]\n",
            "1it [00:00,  5.51it/s]\n"
          ]
        },
        {
          "name": "stdout",
          "output_type": "stream",
          "text": [
            "Epoch 00088: reducing learning rate of group 0 to 3.1250e-05.\n",
            "\n",
            "epoch_idx 87\n",
            "epoch_train_MAE 0.004079163074493408\n",
            "epoch_val_MAE 1.5204349756240845\n"
          ]
        },
        {
          "name": "stderr",
          "output_type": "stream",
          "text": [
            "1it [00:00,  3.07it/s]\n",
            "1it [00:00,  4.86it/s]\n"
          ]
        },
        {
          "name": "stdout",
          "output_type": "stream",
          "text": [
            "\n",
            "epoch_idx 88\n",
            "epoch_train_MAE 0.005508452653884888\n",
            "epoch_val_MAE 1.5153204202651978\n"
          ]
        },
        {
          "name": "stderr",
          "output_type": "stream",
          "text": [
            "1it [00:00,  3.11it/s]\n",
            "1it [00:00,  4.51it/s]\n"
          ]
        },
        {
          "name": "stdout",
          "output_type": "stream",
          "text": [
            "\n",
            "epoch_idx 89\n",
            "epoch_train_MAE 0.005385905504226685\n",
            "epoch_val_MAE 1.505775809288025\n"
          ]
        },
        {
          "name": "stderr",
          "output_type": "stream",
          "text": [
            "1it [00:00,  3.25it/s]\n",
            "1it [00:00,  4.90it/s]\n"
          ]
        },
        {
          "name": "stdout",
          "output_type": "stream",
          "text": [
            "\n",
            "epoch_idx 90\n",
            "epoch_train_MAE 0.0036154985427856445\n",
            "epoch_val_MAE 1.4932477474212646\n"
          ]
        },
        {
          "name": "stderr",
          "output_type": "stream",
          "text": [
            "1it [00:00,  3.01it/s]\n",
            "1it [00:00,  4.26it/s]\n"
          ]
        },
        {
          "name": "stdout",
          "output_type": "stream",
          "text": [
            "\n",
            "epoch_idx 91\n",
            "epoch_train_MAE 0.003757864236831665\n",
            "epoch_val_MAE 1.488466739654541\n"
          ]
        },
        {
          "name": "stderr",
          "output_type": "stream",
          "text": [
            "1it [00:00,  2.99it/s]\n",
            "1it [00:00,  6.61it/s]\n"
          ]
        },
        {
          "name": "stdout",
          "output_type": "stream",
          "text": [
            "\n",
            "epoch_idx 92\n",
            "epoch_train_MAE 0.0040739476680755615\n",
            "epoch_val_MAE 1.4891703128814697\n"
          ]
        },
        {
          "name": "stderr",
          "output_type": "stream",
          "text": [
            "1it [00:00,  4.21it/s]\n",
            "1it [00:00,  6.34it/s]\n"
          ]
        },
        {
          "name": "stdout",
          "output_type": "stream",
          "text": [
            "\n",
            "epoch_idx 93\n",
            "epoch_train_MAE 0.0033759474754333496\n",
            "epoch_val_MAE 1.4953421354293823\n"
          ]
        },
        {
          "name": "stderr",
          "output_type": "stream",
          "text": [
            "1it [00:00,  4.14it/s]\n",
            "1it [00:00,  6.23it/s]\n"
          ]
        },
        {
          "name": "stdout",
          "output_type": "stream",
          "text": [
            "\n",
            "epoch_idx 94\n",
            "epoch_train_MAE 0.0030329227447509766\n",
            "epoch_val_MAE 1.5056915283203125\n"
          ]
        },
        {
          "name": "stderr",
          "output_type": "stream",
          "text": [
            "1it [00:00,  4.28it/s]\n",
            "1it [00:00,  6.63it/s]\n"
          ]
        },
        {
          "name": "stdout",
          "output_type": "stream",
          "text": [
            "\n",
            "epoch_idx 95\n",
            "epoch_train_MAE 0.0019277632236480713\n",
            "epoch_val_MAE 1.5088661909103394\n"
          ]
        },
        {
          "name": "stderr",
          "output_type": "stream",
          "text": [
            "1it [00:00,  4.17it/s]\n",
            "1it [00:00,  6.24it/s]\n"
          ]
        },
        {
          "name": "stdout",
          "output_type": "stream",
          "text": [
            "\n",
            "epoch_idx 96\n",
            "epoch_train_MAE 0.0022667646408081055\n",
            "epoch_val_MAE 1.5067832469940186\n"
          ]
        },
        {
          "name": "stderr",
          "output_type": "stream",
          "text": [
            "1it [00:00,  4.13it/s]\n",
            "1it [00:00,  5.60it/s]\n"
          ]
        },
        {
          "name": "stdout",
          "output_type": "stream",
          "text": [
            "\n",
            "epoch_idx 97\n",
            "epoch_train_MAE 0.0007348358631134033\n",
            "epoch_val_MAE 1.5011667013168335\n"
          ]
        },
        {
          "name": "stderr",
          "output_type": "stream",
          "text": [
            "1it [00:00,  4.17it/s]\n",
            "1it [00:00,  6.62it/s]\n"
          ]
        },
        {
          "name": "stdout",
          "output_type": "stream",
          "text": [
            "\n",
            "epoch_idx 98\n",
            "epoch_train_MAE 0.0024709105491638184\n",
            "epoch_val_MAE 1.5016791820526123\n"
          ]
        },
        {
          "name": "stderr",
          "output_type": "stream",
          "text": [
            "1it [00:00,  4.49it/s]\n",
            "1it [00:00,  6.50it/s]\n"
          ]
        },
        {
          "name": "stdout",
          "output_type": "stream",
          "text": [
            "\n",
            "epoch_idx 99\n",
            "epoch_train_MAE 0.003523498773574829\n",
            "epoch_val_MAE 1.506443977355957\n"
          ]
        },
        {
          "name": "stderr",
          "output_type": "stream",
          "text": [
            "1it [00:00,  4.48it/s]\n",
            "1it [00:00,  6.60it/s]\n"
          ]
        },
        {
          "name": "stdout",
          "output_type": "stream",
          "text": [
            "\n",
            "epoch_idx 100\n",
            "epoch_train_MAE 0.002647101879119873\n",
            "epoch_val_MAE 1.5144530534744263\n"
          ]
        },
        {
          "name": "stderr",
          "output_type": "stream",
          "text": [
            "1it [00:00,  4.12it/s]\n",
            "1it [00:00,  6.67it/s]\n"
          ]
        },
        {
          "name": "stdout",
          "output_type": "stream",
          "text": [
            "\n",
            "epoch_idx 101\n",
            "epoch_train_MAE 0.0031626224517822266\n",
            "epoch_val_MAE 1.5142295360565186\n"
          ]
        },
        {
          "name": "stderr",
          "output_type": "stream",
          "text": [
            "1it [00:00,  4.21it/s]\n",
            "1it [00:00,  6.44it/s]\n"
          ]
        },
        {
          "name": "stdout",
          "output_type": "stream",
          "text": [
            "\n",
            "epoch_idx 102\n",
            "epoch_train_MAE 0.002852708101272583\n",
            "epoch_val_MAE 1.5079020261764526\n"
          ]
        },
        {
          "name": "stderr",
          "output_type": "stream",
          "text": [
            "1it [00:00,  4.11it/s]\n",
            "1it [00:00,  6.68it/s]\n"
          ]
        },
        {
          "name": "stdout",
          "output_type": "stream",
          "text": [
            "Epoch 00104: reducing learning rate of group 0 to 1.5625e-05.\n",
            "\n",
            "epoch_idx 103\n",
            "epoch_train_MAE 0.002653181552886963\n",
            "epoch_val_MAE 1.4987479448318481\n"
          ]
        },
        {
          "name": "stderr",
          "output_type": "stream",
          "text": [
            "1it [00:00,  4.08it/s]\n",
            "1it [00:00,  6.69it/s]\n"
          ]
        },
        {
          "name": "stdout",
          "output_type": "stream",
          "text": [
            "\n",
            "epoch_idx 104\n",
            "epoch_train_MAE 0.0016932785511016846\n",
            "epoch_val_MAE 1.4937264919281006\n"
          ]
        },
        {
          "name": "stderr",
          "output_type": "stream",
          "text": [
            "1it [00:00,  4.23it/s]\n",
            "1it [00:00,  6.13it/s]\n"
          ]
        },
        {
          "name": "stdout",
          "output_type": "stream",
          "text": [
            "\n",
            "epoch_idx 105\n",
            "epoch_train_MAE 0.0027806460857391357\n",
            "epoch_val_MAE 1.4930304288864136\n"
          ]
        },
        {
          "name": "stderr",
          "output_type": "stream",
          "text": [
            "1it [00:00,  4.10it/s]\n",
            "1it [00:00,  6.35it/s]\n"
          ]
        },
        {
          "name": "stdout",
          "output_type": "stream",
          "text": [
            "\n",
            "epoch_idx 106\n",
            "epoch_train_MAE 0.003174394369125366\n",
            "epoch_val_MAE 1.4954861402511597\n"
          ]
        },
        {
          "name": "stderr",
          "output_type": "stream",
          "text": [
            "1it [00:00,  4.28it/s]\n",
            "1it [00:00,  6.27it/s]\n"
          ]
        },
        {
          "name": "stdout",
          "output_type": "stream",
          "text": [
            "\n",
            "epoch_idx 107\n",
            "epoch_train_MAE 0.0027061402797698975\n",
            "epoch_val_MAE 1.500255823135376\n"
          ]
        },
        {
          "name": "stderr",
          "output_type": "stream",
          "text": [
            "1it [00:00,  4.18it/s]\n",
            "1it [00:00,  6.53it/s]\n"
          ]
        },
        {
          "name": "stdout",
          "output_type": "stream",
          "text": [
            "\n",
            "epoch_idx 108\n",
            "epoch_train_MAE 0.0014639794826507568\n",
            "epoch_val_MAE 1.5067840814590454\n"
          ]
        },
        {
          "name": "stderr",
          "output_type": "stream",
          "text": [
            "1it [00:00,  4.35it/s]\n",
            "1it [00:00,  6.68it/s]\n"
          ]
        },
        {
          "name": "stdout",
          "output_type": "stream",
          "text": [
            "\n",
            "epoch_idx 109\n",
            "epoch_train_MAE 0.0010875463485717773\n",
            "epoch_val_MAE 1.5139856338500977\n"
          ]
        },
        {
          "name": "stderr",
          "output_type": "stream",
          "text": [
            "1it [00:00,  4.01it/s]\n",
            "1it [00:00,  6.17it/s]\n"
          ]
        },
        {
          "name": "stdout",
          "output_type": "stream",
          "text": [
            "\n",
            "epoch_idx 110\n",
            "epoch_train_MAE 0.002515941858291626\n",
            "epoch_val_MAE 1.5163031816482544\n"
          ]
        },
        {
          "name": "stderr",
          "output_type": "stream",
          "text": [
            "1it [00:00,  4.25it/s]\n",
            "1it [00:00,  6.65it/s]\n"
          ]
        },
        {
          "name": "stdout",
          "output_type": "stream",
          "text": [
            "\n",
            "epoch_idx 111\n",
            "epoch_train_MAE 0.003533989191055298\n",
            "epoch_val_MAE 1.5149939060211182\n"
          ]
        },
        {
          "name": "stderr",
          "output_type": "stream",
          "text": [
            "1it [00:00,  4.32it/s]\n",
            "1it [00:00,  6.41it/s]\n"
          ]
        },
        {
          "name": "stdout",
          "output_type": "stream",
          "text": [
            "\n",
            "epoch_idx 112\n",
            "epoch_train_MAE 0.0036302506923675537\n",
            "epoch_val_MAE 1.5110098123550415\n"
          ]
        },
        {
          "name": "stderr",
          "output_type": "stream",
          "text": [
            "1it [00:00,  4.28it/s]\n",
            "1it [00:00,  6.15it/s]\n"
          ]
        },
        {
          "name": "stdout",
          "output_type": "stream",
          "text": [
            "\n",
            "epoch_idx 113\n",
            "epoch_train_MAE 0.0028978586196899414\n",
            "epoch_val_MAE 1.505070447921753\n"
          ]
        },
        {
          "name": "stderr",
          "output_type": "stream",
          "text": [
            "1it [00:00,  3.06it/s]\n",
            "1it [00:00,  4.65it/s]\n"
          ]
        },
        {
          "name": "stdout",
          "output_type": "stream",
          "text": [
            "\n",
            "epoch_idx 114\n",
            "epoch_train_MAE 0.0014215707778930664\n",
            "epoch_val_MAE 1.4978234767913818\n"
          ]
        },
        {
          "name": "stderr",
          "output_type": "stream",
          "text": [
            "1it [00:00,  3.37it/s]\n",
            "1it [00:00,  4.45it/s]\n"
          ]
        },
        {
          "name": "stdout",
          "output_type": "stream",
          "text": [
            "\n",
            "epoch_idx 115\n",
            "epoch_train_MAE 0.0007224380970001221\n",
            "epoch_val_MAE 1.495402455329895\n"
          ]
        },
        {
          "name": "stderr",
          "output_type": "stream",
          "text": [
            "1it [00:00,  3.30it/s]\n",
            "1it [00:00,  5.18it/s]\n"
          ]
        },
        {
          "name": "stdout",
          "output_type": "stream",
          "text": [
            "\n",
            "epoch_idx 116\n",
            "epoch_train_MAE 0.0018341243267059326\n",
            "epoch_val_MAE 1.496500849723816\n"
          ]
        },
        {
          "name": "stderr",
          "output_type": "stream",
          "text": [
            "1it [00:00,  3.13it/s]\n",
            "1it [00:00,  3.81it/s]\n"
          ]
        },
        {
          "name": "stdout",
          "output_type": "stream",
          "text": [
            "\n",
            "epoch_idx 117\n",
            "epoch_train_MAE 0.002019047737121582\n",
            "epoch_val_MAE 1.50020432472229\n"
          ]
        },
        {
          "name": "stderr",
          "output_type": "stream",
          "text": [
            "1it [00:00,  2.72it/s]\n",
            "1it [00:00,  6.35it/s]\n"
          ]
        },
        {
          "name": "stdout",
          "output_type": "stream",
          "text": [
            "\n",
            "epoch_idx 118\n",
            "epoch_train_MAE 0.0013713538646697998\n",
            "epoch_val_MAE 1.5058956146240234\n"
          ]
        },
        {
          "name": "stderr",
          "output_type": "stream",
          "text": [
            "1it [00:00,  4.09it/s]\n",
            "1it [00:00,  6.27it/s]\n"
          ]
        },
        {
          "name": "stdout",
          "output_type": "stream",
          "text": [
            "Epoch 00120: reducing learning rate of group 0 to 7.8125e-06.\n",
            "\n",
            "epoch_idx 119\n",
            "epoch_train_MAE 0.0006560683250427246\n",
            "epoch_val_MAE 1.5079131126403809\n",
            "lr equal to min_lr: exist\n",
            "Finish training\n",
            "Uploading the best model\n"
          ]
        },
        {
          "name": "stderr",
          "output_type": "stream",
          "text": [
            "1it [00:00,  6.53it/s]\n",
            "1it [00:00,  5.85it/s]\n",
            "1it [00:00,  6.81it/s]"
          ]
        },
        {
          "name": "stdout",
          "output_type": "stream",
          "text": [
            "\n",
            "Best Train MAE: 1.4814\n",
            "Best Val MAE: 1.2328\n",
            "Best Test MAE: 1.0873\n"
          ]
        },
        {
          "name": "stderr",
          "output_type": "stream",
          "text": [
            "\n"
          ]
        }
      ],
      "source": [
        "epoch_train_MAEs, epoch_val_MAEs, model = main()"
      ]
    },
    {
      "cell_type": "markdown",
      "source": [
        "<h1> Current model with 3 eigenvectors </h1>"
      ],
      "metadata": {
        "id": "vi6lNKXU5I-D"
      }
    },
    {
      "cell_type": "code",
      "execution_count": null,
      "metadata": {
        "colab": {
          "background_save": true,
          "base_uri": "https://localhost:8080/",
          "height": 1000
        },
        "id": "-xyrlByK6A2j",
        "outputId": "b3e8778c-55af-421d-b01d-52bfeb0e21e2"
      },
      "outputs": [
        {
          "data": {
            "image/png": "[encoded data removed]",
            "text/plain": [
              "<Figure size 1000x600 with 1 Axes>"
            ]
          },
          "metadata": {},
          "output_type": "display_data"
        }
      ],
      "source": [
        "plt.figure(figsize=(10, 6))\n",
        "plt.plot(epoch_train_MAEs, label='Training MAE', marker='o')\n",
        "plt.plot(epoch_val_MAEs, label='Validation MAE', marker='x')\n",
        "plt.title('Training and Validation MAE over Epochs')\n",
        "plt.xlabel('Epochs')\n",
        "plt.ylabel('Mean Absolute Error (MAE)')\n",
        "plt.legend()\n",
        "plt.grid(True)\n",
        "plt.show()"
      ]
    },
    {
      "cell_type": "markdown",
      "source": [
        "<h1> Main model with 1 eigenvector </h1>"
      ],
      "metadata": {
        "id": "p0ksmM1Z5IY1"
      }
    },
    {
      "cell_type": "code",
      "source": [
        "from IPython.display import Image\n",
        "Image('/content/old_model.png')"
      ],
      "metadata": {
        "colab": {
          "base_uri": "https://localhost:8080/",
          "height": 564
        },
        "id": "q4l16tH24o02",
        "outputId": "b49c04ad-f315-4d21-c97c-91984e633cad"
      },
      "execution_count": 3,
      "outputs": [
        {
          "output_type": "execute_result",
          "data": {
            "image/png": "[encoded data removed]",
            "text/plain": [
              "<IPython.core.display.Image object>"
            ]
          },
          "metadata": {},
          "execution_count": 3
        }
      ]
    },
    {
      "cell_type": "code",
      "source": [],
      "metadata": {
        "id": "yWvmauSo45Bo"
      },
      "execution_count": null,
      "outputs": []
    }
  ],
  "metadata": {
    "accelerator": "GPU",
    "colab": {
      "gpuType": "T4",
      "provenance": []
    },
    "kernelspec": {
      "display_name": "Python 3",
      "name": "python3"
    },
    "language_info": {
      "name": "python"
    }
  },
  "nbformat": 4,
  "nbformat_minor": 0
}